{
 "cells": [
  {
   "cell_type": "code",
   "execution_count": null,
   "metadata": {},
   "outputs": [],
   "source": [
    "import numpy as np\n",
    "import pygame\n",
    "import time"
   ]
  },
  {
   "cell_type": "code",
   "execution_count": null,
   "metadata": {},
   "outputs": [],
   "source": [
    "directions = {\n",
    "    'UP': (0,1), \n",
    "    'RIGHT': (1,0),\n",
    "    'DOWN': (0,-1),\n",
    "    'LEFT': (-1,0)\n",
    "}\n",
    "directions_list = [(0,1),(1,0),(0,-1),(-1,0)]\n",
    "\n",
    "class MazeEnv():\n",
    "    def __init__(self,obstacles,m,n):\n",
    "        if (0,0) in obstacles or (m-1,n-1) in obstacles:\n",
    "            raise ValueError(\"Obstacle cannot be at (0,0) or (m-1,n-1)\")\n",
    "        self.obstacles = obstacles\n",
    "        self.m = m\n",
    "        self.n = n\n",
    "        self.cur_pos = (0,0)\n",
    "        self.end_pos = (m-1,n-1)\n",
    "        self.done = False\n",
    "\n",
    "        pygame.init()\n",
    "        self.screen = pygame.display.set_mode((self.m*50,self.n*50))\n",
    "        pygame.display.set_caption(\"Maze\")\n",
    "        self.screen.fill((255,255,255))\n",
    "\n",
    "        self.render()\n",
    "        \n",
    "\n",
    "    def action_space(self):\n",
    "        return len(directions)\n",
    "    def observation_space(self):\n",
    "        return 2\n",
    "    \n",
    "    def step(self,action):\n",
    "        if self.done:\n",
    "            raise ValueError(\"Episode is done\")\n",
    "        reward = 0\n",
    "        action_value = directions_list[action]\n",
    "        new_pos = (self.cur_pos[0]+action_value[0],self.cur_pos[1]+action_value[1])\n",
    "        if new_pos[0] < 0 or new_pos[0] >= self.m or new_pos[1] < 0 or new_pos[1] >= self.n or new_pos in self.obstacles:\n",
    "            self.done = True\n",
    "            reward = -1\n",
    "        if new_pos == self.end_pos:\n",
    "            self.done = True\n",
    "            reward = 1\n",
    "        self.cur_pos = new_pos\n",
    "        self.render()\n",
    "        return self.cur_pos,reward,self.done\n",
    "    \n",
    "    def reset(self):\n",
    "        self.cur_pos = (0,0)\n",
    "        self.done = False\n",
    "        self.render()\n",
    "        return self.cur_pos\n",
    "    \n",
    "    def render(self):\n",
    "        self.screen.fill((255,255,255))\n",
    "\n",
    "        for i in range(self.m):\n",
    "            for j in range(self.n):\n",
    "                if (i,j) in self.obstacles:\n",
    "                    pygame.draw.rect(self.screen,(0,0,0),(i*50,j*50,50,50))\n",
    "        pygame.draw.rect(self.screen,(0,255,0),(0,0,50,50))\n",
    "        pygame.draw.rect(self.screen,(255,0,0),((self.m-1)*50,(self.n-1)*50,50,50))\n",
    "        pygame.draw.rect(self.screen,(0,0,255),(self.cur_pos[0]*50,self.cur_pos[1]*50,50,50))\n",
    "        pygame.display.update()\n",
    "\n",
    "    \n",
    "\n"
   ]
  },
  {
   "cell_type": "code",
   "execution_count": null,
   "metadata": {},
   "outputs": [],
   "source": [
    "class QTable():\n",
    "    def __init__(self,env,eps,alpha,gamma):\n",
    "        self.env = env\n",
    "        self.q_table = np.zeros((env.m,env.n,env.action_space()))\n",
    "        self.eps = eps\n",
    "        self.alpha = alpha\n",
    "        self.gamma = gamma\n",
    "    def train(self,num_episodes):\n",
    "        for _ in range(num_episodes):\n",
    "            state = self.env.reset()\n",
    "            done = False\n",
    "            while not done:\n",
    "                if np.random.random() < self.eps:\n",
    "                    action = np.random.randint(self.env.action_space())\n",
    "                else:\n",
    "                    action = np.argmax(self.q_table[state])\n",
    "                \n",
    "                new_state,reward,done = self.env.step(action)\n",
    "                # update q table\n",
    "            \n",
    "                self.q_table[state[0],state[1],action] =self.q_table[state[0],state[1],action] + self.alpha*(reward + self.gamma*np.max(self.q_table[new_state[0],new_state[1],:]-self.q_table[state[0],state[1],action]))\n",
    "                state = new_state\n",
    "        \n",
    "                \n",
    "                \n",
    "\n",
    "    \n",
    "\n"
   ]
  },
  {
   "cell_type": "code",
   "execution_count": null,
   "metadata": {},
   "outputs": [],
   "source": [
    "obstacles = [\n",
    "    (0,1),(1,1),(2,1),(4,0),(2,2),(2,3),\n",
    "    (2,4),(2,5),(4,2),(4,3),(4,4),(4,6),\n",
    "    (5,4),(6,4),(7,5),(3,7),(2,7),(1,7),\n",
    "    (9.8),(9,7),(8,6),(5,6),(6,7),(7,8),\n",
    "    (8,9),(0,7),(1,5),(0,5)\n",
    "    \n",
    "    \n",
    "]"
   ]
  },
  {
   "cell_type": "code",
   "execution_count": null,
   "metadata": {},
   "outputs": [],
   "source": [
    "for i in range(10):\n",
    "    print()\n",
    "    for j in range(10):\n",
    "        if (i,j) in obstacles:\n",
    "            print(\"      \",end=\"\")\n",
    "        else:\n",
    "            print(f\"({i},{j}) \",end=\"\")"
   ]
  },
  {
   "cell_type": "code",
   "execution_count": null,
   "metadata": {},
   "outputs": [],
   "source": [
    "env = MazeEnv(obstacles,10,10)\n",
    "q_table = QTable(env,0.1,0.1,0.9)"
   ]
  },
  {
   "cell_type": "code",
   "execution_count": null,
   "metadata": {},
   "outputs": [],
   "source": [
    "q_table.train(3000)"
   ]
  },
  {
   "cell_type": "code",
   "execution_count": null,
   "metadata": {},
   "outputs": [],
   "source": [
    "env.reset()\n",
    "done = False\n",
    "while not done:\n",
    "    action = np.argmax(q_table.q_table[env.cur_pos])\n",
    "    _, _, done = env.step(action)\n",
    "    time.sleep(1)"
   ]
  }
 ],
 "metadata": {
  "kernelspec": {
   "display_name": "pytorch_env_2",
   "language": "python",
   "name": "python3"
  },
  "language_info": {
   "codemirror_mode": {
    "name": "ipython",
    "version": 3
   },
   "file_extension": ".py",
   "mimetype": "text/x-python",
   "name": "python",
   "nbconvert_exporter": "python",
   "pygments_lexer": "ipython3",
   "version": "3.9.16"
  },
  "orig_nbformat": 4
 },
 "nbformat": 4,
 "nbformat_minor": 2
}
