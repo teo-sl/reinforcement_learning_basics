{
 "cells": [
  {
   "cell_type": "code",
   "execution_count": 1,
   "metadata": {},
   "outputs": [],
   "source": [
    "import numpy as np\n",
    "import time"
   ]
  },
  {
   "cell_type": "code",
   "execution_count": 93,
   "metadata": {},
   "outputs": [],
   "source": [
    "def stringfy(vec):\n",
    "    return ''.join([str(x) for x in vec])\n",
    "import itertools\n",
    "perm = list(itertools.permutations([0,1,2,3]))\n",
    "ORDER = []\n",
    "for x in perm:\n",
    "    el= ''.join([str(y) for y in x])\n",
    "    ORDER.append(el)\n",
    "\n",
    "ORDER = np.array(ORDER)"
   ]
  },
  {
   "cell_type": "code",
   "execution_count": 94,
   "metadata": {},
   "outputs": [
    {
     "data": {
      "text/plain": [
       "array(['0123', '0132', '0213', '0231', '0312', '0321', '1023', '1032',\n",
       "       '1203', '1230', '1302', '1320', '2013', '2031', '2103', '2130',\n",
       "       '2301', '2310', '3012', '3021', '3102', '3120', '3201', '3210'],\n",
       "      dtype='<U4')"
      ]
     },
     "execution_count": 94,
     "metadata": {},
     "output_type": "execute_result"
    }
   ],
   "source": [
    "ORDER"
   ]
  },
  {
   "cell_type": "code",
   "execution_count": 103,
   "metadata": {},
   "outputs": [],
   "source": [
    "ACTIONS = {\n",
    "    'UP' : 0,\n",
    "    'RIGHT' : 1,\n",
    "    'DOWN' : 2,\n",
    "    'LEFT' : 3,\n",
    "}\n",
    "INVERSE_ACTIONS = {\n",
    "    0 : 'UP',\n",
    "    1 : 'RIGHT',\n",
    "    2 : 'DOWN',\n",
    "    3 : 'LEFT',\n",
    "}\n",
    "class Puzzle4():\n",
    "    def __init__(self):\n",
    "        self.config = np.array([0,1,2,3])\n",
    "        np.random.shuffle(self.config)\n",
    "        self.final_state = np.array([0,1,2,3])\n",
    "        self.done = False\n",
    "        self.num_iter = 0\n",
    "\n",
    "    def reset(self):\n",
    "        np.random.shuffle(self.config)\n",
    "        self.done = False\n",
    "        self.num_iter = 0\n",
    "        return stringfy(self.config)\n",
    "\n",
    "        \n",
    "\n",
    "    def get_legal_action(self):\n",
    "        idx_0 = np.argwhere(self.config == 0)[0][0]\n",
    "        if idx_0 == 0:\n",
    "            return [ACTIONS['RIGHT'],ACTIONS['DOWN']]\n",
    "        elif idx_0 == 1:\n",
    "            return [ACTIONS['LEFT'],ACTIONS['DOWN']]\n",
    "        elif idx_0 == 2:\n",
    "            return [ACTIONS['RIGHT'],ACTIONS['UP']]\n",
    "        else:\n",
    "            return [ACTIONS['LEFT'],ACTIONS['UP']]\n",
    "\n",
    "    def action_space(self):\n",
    "        return 4\n",
    "        \n",
    "        \n",
    "    def step(self,action):\n",
    "        self.num_iter += 1\n",
    "\n",
    "        if self.num_iter > 20:\n",
    "            self.done = True\n",
    "            return stringfy(self.config), 0, self.done\n",
    "        if self.done:\n",
    "            raise Exception('Game is over')\n",
    "        idx_0 = np.argwhere(self.config == 0)[0][0]\n",
    "        if action == 0:\n",
    "            dst = idx_0 - 2 \n",
    "        elif action == 1:\n",
    "            dst = idx_0 + 1\n",
    "        elif action == 2:\n",
    "            dst = idx_0 + 2\n",
    "        elif action == 3:\n",
    "            dst = idx_0 - 1\n",
    "        else: \n",
    "            raise Exception('Invalid action')\n",
    "    \n",
    "        self.config[idx_0] = self.config[dst]\n",
    "        self.config[dst] = 0\n",
    "\n",
    "        #self.render()\n",
    "\n",
    "\n",
    "        if np.array_equal(self.config,self.final_state):\n",
    "            self.done = True\n",
    "            return stringfy(self.config), 1, self.done\n",
    "        else:\n",
    "            return stringfy(self.config), 0, self.done\n",
    "\n",
    "    \n",
    "        \n",
    "    def render(self):\n",
    "        print(self.config)\n",
    "    "
   ]
  },
  {
   "cell_type": "code",
   "execution_count": 6,
   "metadata": {},
   "outputs": [],
   "source": [
    "class QTable():\n",
    "    def __init__(self,env,eps,alpha,gamma):\n",
    "        self.env = env\n",
    "        self.q_table = np.zeros((np.math.factorial(4),env.action_space()))\n",
    "        self.eps = eps\n",
    "        self.alpha = alpha\n",
    "        self.gamma = gamma\n",
    "    def train(self,num_episodes):\n",
    "        for _ in range(num_episodes):\n",
    "            state = self.env.reset()\n",
    "            idx_state = np.argwhere(ORDER == state)[0][0]\n",
    "            done = False\n",
    "            while not done:\n",
    "                if np.random.random() < self.eps:\n",
    "                    action = np.random.choice(self.env.get_legal_action())\n",
    "                else:\n",
    "                    action = np.argmax(self.q_table[idx_state])\n",
    "                \n",
    "                new_state,reward,done = self.env.step(action)\n",
    "                idx_new_state = np.argwhere(ORDER == new_state)[0][0]\n",
    "                \n",
    "                \n",
    "                self.q_table[idx_state,action] =self.q_table[idx_state,action] + self.alpha*(reward + self.gamma*np.max(self.q_table[idx_new_state,:]-self.q_table[idx_state,action]))\n",
    "                state = new_state\n",
    "                idx_state = idx_new_state\n",
    "\n",
    "                #time.sleep(0.5)\n",
    "        "
   ]
  },
  {
   "cell_type": "code",
   "execution_count": 7,
   "metadata": {},
   "outputs": [],
   "source": [
    "env = Puzzle4()\n",
    "q_table = QTable(env,0.1,0.1,0.9)"
   ]
  },
  {
   "cell_type": "code",
   "execution_count": 38,
   "metadata": {},
   "outputs": [],
   "source": [
    "q_table.train(20000)"
   ]
  },
  {
   "cell_type": "code",
   "execution_count": 40,
   "metadata": {},
   "outputs": [
    {
     "name": "stdout",
     "output_type": "stream",
     "text": [
      "[0 2 3 1]\n",
      "[2 0 3 1]\n",
      "[2 1 3 0]\n",
      "[2 1 0 3]\n",
      "[0 1 2 3]\n"
     ]
    }
   ],
   "source": [
    "state = env.reset()\n",
    "done = False\n",
    "while not done:\n",
    "    action = np.argmax(q_table.q_table[np.argwhere(ORDER == state)[0][0]])\n",
    "    state,reward,done = env.step(action)\n",
    "    env.render()\n",
    "    time.sleep(0.5)\n"
   ]
  },
  {
   "cell_type": "code",
   "execution_count": 104,
   "metadata": {},
   "outputs": [],
   "source": [
    "A = np.zeros((np.math.factorial(4),np.math.factorial(4)))\n",
    "edge_labels = {}\n",
    "\n",
    "for i in range(np.math.factorial(4)):\n",
    "    idx_state = i\n",
    "    state = ORDER[i]\n",
    "    # convert to list of int\n",
    "    state = np.array([int(x) for x in state])\n",
    "    action = np.argmax(q_table.q_table[i])\n",
    "    idx_0 = np.argwhere(state == 0)[0][0]\n",
    "    if action == 0:\n",
    "        dst = idx_0 - 2 \n",
    "    elif action == 1:\n",
    "        dst = idx_0 + 1\n",
    "    elif action == 2:\n",
    "        dst = idx_0 + 2\n",
    "    elif action == 3:\n",
    "        dst = idx_0 - 1\n",
    "    else: \n",
    "        raise Exception('Invalid action')\n",
    "    new_state = state.copy()\n",
    "    new_state[idx_0] = new_state[dst]\n",
    "    new_state[dst] = 0\n",
    "    new_state = stringfy(new_state)\n",
    "    idx_new_state = np.argwhere(ORDER == new_state)[0][0]\n",
    "    \n",
    "\n",
    "    edge_labels[(idx_state,idx_new_state)] = INVERSE_ACTIONS[action]\n",
    "    A[idx_state,idx_new_state] = 1\n"
   ]
  },
  {
   "cell_type": "code",
   "execution_count": 72,
   "metadata": {},
   "outputs": [
    {
     "data": {
      "text/plain": [
       "['0123', '1023']"
      ]
     },
     "execution_count": 72,
     "metadata": {},
     "output_type": "execute_result"
    }
   ],
   "source": [
    "def get_nodes_from(A, start):\n",
    "    m,n = A.shape\n",
    "    l = [start]\n",
    "    ret = []\n",
    "    while len(l)>0:\n",
    "        node = l.pop(0)\n",
    "        if node in ret:\n",
    "            continue\n",
    "        ret.append(node)\n",
    "        for x in range(n):\n",
    "            if A[node,x] == 1:\n",
    "                \n",
    "                l.append(x)\n",
    "    return ret\n"
   ]
  },
  {
   "cell_type": "code",
   "execution_count": 73,
   "metadata": {},
   "outputs": [],
   "source": [
    "nodes_with_solution = []\n",
    "for i in range(np.math.factorial(4)):\n",
    "    if 0 in get_nodes_from(A,i):\n",
    "        nodes_with_solution.append(i)"
   ]
  },
  {
   "cell_type": "code",
   "execution_count": 130,
   "metadata": {},
   "outputs": [
    {
     "data": {
      "image/png": "[encoded data removed]",
      "text/plain": [
       "<Figure size 640x480 with 1 Axes>"
      ]
     },
     "metadata": {},
     "output_type": "display_data"
    }
   ],
   "source": [
    "\n",
    "import networkx as nx\n",
    "import matplotlib.pyplot as plt\n",
    "\n",
    "# create a directed graph\n",
    "G = nx.DiGraph()\n",
    "edge_labels_conv = {}\n",
    "\n",
    "# Add nodes and edges\n",
    "for i in range(np.math.factorial(4)):\n",
    "    for j in range(np.math.factorial(4)):\n",
    "        if A[i,j] == 1 and i in nodes_with_solution and j in nodes_with_solution:\n",
    "            v1 = ORDER[i][:2]+\"\\n\"+ORDER[i][2:]\n",
    "            v2 = ORDER[j][:2]+\"\\n\"+ORDER[j][2:]\n",
    "            edge_labels_conv[(v1,v2)] = edge_labels[(i,j)]\n",
    "            G.add_edge(v1,v2)\n",
    "\n",
    "pos = nx.spring_layout(G)\n",
    "# Draw the graph, show the orientation of the edges, make it in\n",
    "nx.draw(G, with_labels=True, font_weight='bold',pos=pos,node_size=1000,arrowsize=10)\n",
    "\n",
    "\n",
    "plt.show()\n",
    "\n"
   ]
  },
  {
   "cell_type": "code",
   "execution_count": null,
   "metadata": {},
   "outputs": [],
   "source": [
    " "
   ]
  },
  {
   "cell_type": "code",
   "execution_count": null,
   "metadata": {},
   "outputs": [],
   "source": []
  }
 ],
 "metadata": {
  "kernelspec": {
   "display_name": "pytorch_env_2",
   "language": "python",
   "name": "python3"
  },
  "language_info": {
   "codemirror_mode": {
    "name": "ipython",
    "version": 3
   },
   "file_extension": ".py",
   "mimetype": "text/x-python",
   "name": "python",
   "nbconvert_exporter": "python",
   "pygments_lexer": "ipython3",
   "version": "3.9.16"
  },
  "orig_nbformat": 4
 },
 "nbformat": 4,
 "nbformat_minor": 2
}
