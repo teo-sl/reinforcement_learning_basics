{
 "cells": [
  {
   "cell_type": "code",
   "execution_count": 1,
   "metadata": {},
   "outputs": [],
   "source": [
    "import numpy as np\n",
    "import time"
   ]
  },
  {
   "cell_type": "code",
   "execution_count": 2,
   "metadata": {},
   "outputs": [],
   "source": [
    "def stringfy(vec):\n",
    "    return ''.join([str(x) for x in vec])\n",
    "import itertools\n",
    "perm = list(itertools.permutations([0,1,2,3]))\n",
    "ORDER = []\n",
    "for x in perm:\n",
    "    el= ''.join([str(y) for y in x])\n",
    "    ORDER.append(el)\n",
    "\n",
    "ORDER = np.array(ORDER)"
   ]
  },
  {
   "cell_type": "code",
   "execution_count": 3,
   "metadata": {},
   "outputs": [
    {
     "data": {
      "text/plain": [
       "array(['0123', '0132', '0213', '0231', '0312', '0321', '1023', '1032',\n",
       "       '1203', '1230', '1302', '1320', '2013', '2031', '2103', '2130',\n",
       "       '2301', '2310', '3012', '3021', '3102', '3120', '3201', '3210'],\n",
       "      dtype='<U4')"
      ]
     },
     "execution_count": 3,
     "metadata": {},
     "output_type": "execute_result"
    }
   ],
   "source": [
    "ORDER"
   ]
  },
  {
   "cell_type": "code",
   "execution_count": 4,
   "metadata": {},
   "outputs": [],
   "source": [
    "CONVERSION = {\n",
    "    1:1,\n",
    "    2:2,\n",
    "    3:3,\n",
    "    4:4,\n",
    "    5:5,\n",
    "    6:6,\n",
    "    7:7,\n",
    "    8:0.5,\n",
    "    9:0.5,\n",
    "    10:0.5,\n",
    "}"
   ]
  },
  {
   "cell_type": "code",
   "execution_count": 5,
   "metadata": {},
   "outputs": [],
   "source": [
    "ACTIONS = {\n",
    "    'UP' : 0,\n",
    "    'RIGHT' : 1,\n",
    "    'DOWN' : 2,\n",
    "    'LEFT' : 3,\n",
    "}\n",
    "class Puzzle4():\n",
    "    def __init__(self):\n",
    "        self.config = np.array([0,1,2,3])\n",
    "        np.random.shuffle(self.config)\n",
    "        self.final_state = [0,1,2,3]\n",
    "        self.done = False\n",
    "        self.num_iter = 0\n",
    "\n",
    "    def reset(self):\n",
    "        np.random.shuffle(self.config)\n",
    "        self.final_state = [0,1,2,3]\n",
    "        self.done = False\n",
    "        return stringfy(self.config)\n",
    "\n",
    "        \n",
    "\n",
    "    def get_legal_action(self):\n",
    "        idx_0 = np.argwhere(self.config == 0)[0][0]\n",
    "        if idx_0 == 0:\n",
    "            return [ACTIONS['RIGHT'],ACTIONS['DOWN']]\n",
    "        elif idx_0 == 1:\n",
    "            return [ACTIONS['LEFT'],ACTIONS['DOWN']]\n",
    "        elif idx_0 == 2:\n",
    "            return [ACTIONS['RIGHT'],ACTIONS['UP']]\n",
    "        else:\n",
    "            return [ACTIONS['LEFT'],ACTIONS['UP']]\n",
    "\n",
    "    def action_space(self):\n",
    "        return 4\n",
    "        \n",
    "        \n",
    "    def step(self,action):\n",
    "        self.num_iter += 1\n",
    "\n",
    "        if self.num_iter > 100:\n",
    "            self.done = True\n",
    "            return stringfy(self.config), 0, self.done\n",
    "        if self.done:\n",
    "            raise Exception('Game is over')\n",
    "        idx_0 = np.argwhere(self.config == 0)[0][0]\n",
    "        if action == 0:\n",
    "            dst = idx_0 - 2 \n",
    "        elif action == 1:\n",
    "            dst = idx_0 + 1\n",
    "        elif action == 2:\n",
    "            dst = idx_0 + 2\n",
    "        elif action == 3:\n",
    "            dst = idx_0 - 1\n",
    "        else: \n",
    "            raise Exception('Invalid action')\n",
    "    \n",
    "        self.config[idx_0] = self.config[dst]\n",
    "        self.config[dst] = 0\n",
    "\n",
    "        #self.render()\n",
    "\n",
    "\n",
    "        if np.array_equal(self.config,self.final_state):\n",
    "            self.done = True\n",
    "            return stringfy(self.config), 1, self.done\n",
    "        else:\n",
    "            return stringfy(self.config), 0, self.done\n",
    "\n",
    "    \n",
    "        \n",
    "    def render(self):\n",
    "        print(self.config)\n",
    "    "
   ]
  },
  {
   "cell_type": "code",
   "execution_count": 6,
   "metadata": {},
   "outputs": [],
   "source": [
    "class QTable():\n",
    "    def __init__(self,env,eps,alpha,gamma):\n",
    "        self.env = env\n",
    "        self.q_table = np.zeros((np.math.factorial(4),env.action_space()))\n",
    "        self.eps = eps\n",
    "        self.alpha = alpha\n",
    "        self.gamma = gamma\n",
    "    def train(self,num_episodes):\n",
    "        for _ in range(num_episodes):\n",
    "            state = self.env.reset()\n",
    "            idx_state = np.argwhere(ORDER == state)[0][0]\n",
    "            done = False\n",
    "            while not done:\n",
    "                if np.random.random() < self.eps:\n",
    "                    action = np.random.choice(self.env.get_legal_action())\n",
    "                else:\n",
    "                    action = np.argmax(self.q_table[idx_state])\n",
    "                \n",
    "                new_state,reward,done = self.env.step(action)\n",
    "                idx_new_state = np.argwhere(ORDER == new_state)[0][0]\n",
    "                \n",
    "                \n",
    "                self.q_table[idx_state,action] =self.q_table[idx_state,action] + self.alpha*(reward + self.gamma*np.max(self.q_table[idx_new_state,:]-self.q_table[idx_state,action]))\n",
    "                state = new_state\n",
    "                idx_state = idx_new_state\n",
    "\n",
    "                #time.sleep(0.5)\n",
    "        "
   ]
  },
  {
   "cell_type": "code",
   "execution_count": 7,
   "metadata": {},
   "outputs": [],
   "source": [
    "env = Puzzle4()\n",
    "q_table = QTable(env,0.1,0.1,0.9)"
   ]
  },
  {
   "cell_type": "code",
   "execution_count": 8,
   "metadata": {},
   "outputs": [
    {
     "name": "stdout",
     "output_type": "stream",
     "text": [
      "[0 3 2 1]\n",
      "[2 3 0 1]\n",
      "[0 3 2 1]\n",
      "[2 3 0 1]\n",
      "[0 3 2 1]\n",
      "[2 3 0 1]\n",
      "[0 3 2 1]\n",
      "[2 3 0 1]\n",
      "[0 3 2 1]\n",
      "[2 3 0 1]\n",
      "[0 3 2 1]\n",
      "[2 3 0 1]\n",
      "[0 3 2 1]\n",
      "[2 3 0 1]\n",
      "[0 3 2 1]\n",
      "[2 3 0 1]\n",
      "[0 3 2 1]\n",
      "[2 3 0 1]\n",
      "[0 3 2 1]\n",
      "[2 3 0 1]\n",
      "[0 3 2 1]\n",
      "[2 3 0 1]\n",
      "[0 3 2 1]\n",
      "[2 3 0 1]\n",
      "[0 3 2 1]\n",
      "[2 3 0 1]\n",
      "[0 3 2 1]\n",
      "[2 3 0 1]\n",
      "[0 3 2 1]\n",
      "[2 3 0 1]\n",
      "[0 3 2 1]\n",
      "[2 3 0 1]\n",
      "[0 3 2 1]\n",
      "[2 3 0 1]\n",
      "[0 3 2 1]\n",
      "[2 3 0 1]\n",
      "[0 3 2 1]\n",
      "[2 3 0 1]\n",
      "[0 3 2 1]\n",
      "[2 3 0 1]\n",
      "[0 3 2 1]\n",
      "[2 3 0 1]\n",
      "[0 3 2 1]\n",
      "[2 3 0 1]\n",
      "[2 3 1 0]\n",
      "[2 0 1 3]\n",
      "[2 3 1 0]\n",
      "[2 0 1 3]\n",
      "[2 3 1 0]\n",
      "[2 0 1 3]\n",
      "[2 3 1 0]\n",
      "[2 0 1 3]\n",
      "[2 3 1 0]\n",
      "[2 0 1 3]\n",
      "[2 3 1 0]\n",
      "[2 0 1 3]\n",
      "[2 3 1 0]\n",
      "[2 0 1 3]\n",
      "[2 3 1 0]\n",
      "[2 0 1 3]\n",
      "[2 3 1 0]\n",
      "[2 0 1 3]\n",
      "[2 3 1 0]\n",
      "[2 0 1 3]\n",
      "[2 3 1 0]\n",
      "[2 0 1 3]\n",
      "[2 3 1 0]\n",
      "[2 0 1 3]\n",
      "[0 2 1 3]\n",
      "[2 0 1 3]\n",
      "[2 3 1 0]\n",
      "[2 0 1 3]\n",
      "[2 3 1 0]\n",
      "[2 0 1 3]\n",
      "[2 3 1 0]\n",
      "[2 0 1 3]\n",
      "[2 3 1 0]\n",
      "[2 0 1 3]\n",
      "[2 3 1 0]\n",
      "[2 0 1 3]\n",
      "[2 3 1 0]\n",
      "[2 0 1 3]\n",
      "[2 3 1 0]\n",
      "[2 0 1 3]\n",
      "[2 3 1 0]\n",
      "[2 0 1 3]\n",
      "[2 3 1 0]\n",
      "[2 0 1 3]\n",
      "[2 3 1 0]\n",
      "[2 0 1 3]\n",
      "[2 3 1 0]\n",
      "[2 0 1 3]\n",
      "[2 3 1 0]\n",
      "[2 3 0 1]\n",
      "[0 3 2 1]\n",
      "[2 3 0 1]\n",
      "[0 3 2 1]\n",
      "[2 3 0 1]\n",
      "[0 3 2 1]\n",
      "[2 3 0 1]\n"
     ]
    }
   ],
   "source": [
    "q_table.train(10000)"
   ]
  },
  {
   "cell_type": "code",
   "execution_count": 82,
   "metadata": {},
   "outputs": [
    {
     "data": {
      "text/plain": [
       "array([1, 2, 3, 0])"
      ]
     },
     "execution_count": 82,
     "metadata": {},
     "output_type": "execute_result"
    }
   ],
   "source": [
    "env.config"
   ]
  },
  {
   "cell_type": "code",
   "execution_count": 84,
   "metadata": {},
   "outputs": [
    {
     "name": "stdout",
     "output_type": "stream",
     "text": [
      "[0 1 3 2]\n"
     ]
    },
    {
     "data": {
      "text/plain": [
       "('0132', 0, False)"
      ]
     },
     "execution_count": 84,
     "metadata": {},
     "output_type": "execute_result"
    }
   ],
   "source": [
    "env.step(3)"
   ]
  },
  {
   "cell_type": "code",
   "execution_count": null,
   "metadata": {},
   "outputs": [],
   "source": []
  }
 ],
 "metadata": {
  "kernelspec": {
   "display_name": "pytorch_env_2",
   "language": "python",
   "name": "python3"
  },
  "language_info": {
   "codemirror_mode": {
    "name": "ipython",
    "version": 3
   },
   "file_extension": ".py",
   "mimetype": "text/x-python",
   "name": "python",
   "nbconvert_exporter": "python",
   "pygments_lexer": "ipython3",
   "version": "3.9.16"
  },
  "orig_nbformat": 4
 },
 "nbformat": 4,
 "nbformat_minor": 2
}
