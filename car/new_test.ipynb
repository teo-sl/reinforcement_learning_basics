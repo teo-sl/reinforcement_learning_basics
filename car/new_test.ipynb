{
 "cells": [
  {
   "cell_type": "code",
   "execution_count": 1,
   "metadata": {},
   "outputs": [
    {
     "name": "stdout",
     "output_type": "stream",
     "text": [
      "pygame 2.2.0 (SDL 2.0.22, Python 3.9.16)\n",
      "Hello from the pygame community. https://www.pygame.org/contribute.html\n"
     ]
    }
   ],
   "source": [
    "from car import CarEnv,WIN,FPS,draw\n",
    "import pygame"
   ]
  },
  {
   "cell_type": "code",
   "execution_count": 2,
   "metadata": {},
   "outputs": [],
   "source": [
    "env = CarEnv()\n"
   ]
  },
  {
   "cell_type": "code",
   "execution_count": 3,
   "metadata": {},
   "outputs": [
    {
     "name": "stderr",
     "output_type": "stream",
     "text": [
      "\n",
      "KeyboardInterrupt\n",
      "\n"
     ]
    }
   ],
   "source": [
    "states = []\n",
    "run = True\n",
    "clock = pygame.time.Clock()\n",
    "\n",
    "\n",
    "\n",
    "env = CarEnv()\n",
    "i = 0\n",
    "while run:\n",
    "    i+=1\n",
    "    clock.tick(FPS)\n",
    "\n",
    "    draw(WIN, env.images, env.player_car)\n",
    "    #for angle in range(0,359,30):\n",
    "    #    draw_beam(WIN,TRACK_BORDER,TRACK_BORDER_MASK, angle, (player_car.x, player_car.y))\n",
    "\n",
    "\n",
    "    for event in pygame.event.get():\n",
    "        if event.type == pygame.QUIT:\n",
    "            run = False\n",
    "            break\n",
    "\n",
    "    #move_player(player_car)\n",
    "    env.player_step()\n",
    "    #print(env.player_car.x,env.player_car.y)\n",
    "    #el = get_mask_components_collided(player_car)\n",
    "    #if el is not None and el.centroid() not in states:\n",
    "        #states.append(el.centroid())\n",
    "\n",
    "        \n",
    "    #if player_car.collide(TRACK_BORDER_MASK) != None:\n",
    "    #    player_car.bounce()\n",
    "\n",
    "    \n",
    "pygame.quit()"
   ]
  },
  {
   "cell_type": "code",
   "execution_count": null,
   "metadata": {},
   "outputs": [],
   "source": [
    "# w = 21\n",
    "# h = 42"
   ]
  }
 ],
 "metadata": {
  "kernelspec": {
   "display_name": "pytorch_env_2",
   "language": "python",
   "name": "python3"
  },
  "language_info": {
   "codemirror_mode": {
    "name": "ipython",
    "version": 3
   },
   "file_extension": ".py",
   "mimetype": "text/x-python",
   "name": "python",
   "nbconvert_exporter": "python",
   "pygments_lexer": "ipython3",
   "version": "3.9.16"
  },
  "orig_nbformat": 4
 },
 "nbformat": 4,
 "nbformat_minor": 2
}
